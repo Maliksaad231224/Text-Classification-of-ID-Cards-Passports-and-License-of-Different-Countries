{
 "cells": [
  {
   "cell_type": "markdown",
   "metadata": {},
   "source": [
    "                                                **TEXT CLASSIFICATION OF SENTENCES DATASET**"
   ]
  },
  {
   "cell_type": "code",
   "execution_count": 502,
   "metadata": {},
   "outputs": [],
   "source": [
    "import pandas as pd\n",
    "import torch\n",
    "from torch.utils.data import Dataset, DataLoader\n",
    "import torch.nn as nn\n",
    "import torch.optim as optim\n",
    "from sklearn.feature_extraction.text import TfidfVectorizer\n",
    "import re\n",
    "import seaborn as sns\n",
    "import matplotlib.pyplot as plt\n",
    "from sklearn import metrics\n",
    "from sklearn.metrics import confusion_matrix,classification_report\n",
    "import string\n",
    "import nltk\n",
    "from nltk.corpus import stopwords\n",
    "from nltk.stem import WordNetLemmatizer\n",
    "from nltk import word_tokenize, pos_tag\n"
   ]
  },
  {
   "cell_type": "code",
   "execution_count": 503,
   "metadata": {},
   "outputs": [
    {
     "data": {
      "text/html": [
       "<div>\n",
       "<style scoped>\n",
       "    .dataframe tbody tr th:only-of-type {\n",
       "        vertical-align: middle;\n",
       "    }\n",
       "\n",
       "    .dataframe tbody tr th {\n",
       "        vertical-align: top;\n",
       "    }\n",
       "\n",
       "    .dataframe thead th {\n",
       "        text-align: right;\n",
       "    }\n",
       "</style>\n",
       "<table border=\"1\" class=\"dataframe\">\n",
       "  <thead>\n",
       "    <tr style=\"text-align: right;\">\n",
       "      <th></th>\n",
       "      <th>textID</th>\n",
       "      <th>text</th>\n",
       "      <th>selected_text</th>\n",
       "      <th>classes</th>\n",
       "    </tr>\n",
       "  </thead>\n",
       "  <tbody>\n",
       "    <tr>\n",
       "      <th>0</th>\n",
       "      <td>50e14c0bb8</td>\n",
       "      <td>DNAL IDENTITY CARD zz zz SURNAME: zz JUNGE zz ...</td>\n",
       "      <td>Soooo high</td>\n",
       "      <td>sa_id_card</td>\n",
       "    </tr>\n",
       "    <tr>\n",
       "      <th>1</th>\n",
       "      <td>e050245fbd</td>\n",
       "      <td>REPUBLIC OF SOUTH AFRICA zz zz NATIONAL IDENTI...</td>\n",
       "      <td>Both of you</td>\n",
       "      <td>sa_id_card</td>\n",
       "    </tr>\n",
       "    <tr>\n",
       "      <th>2</th>\n",
       "      <td>fc2cbefa9d</td>\n",
       "      <td>REPUBLIC OF SOUTH AFRICA zz NATIONAL IDENTITY ...</td>\n",
       "      <td>Wow... u just became cooler.</td>\n",
       "      <td>sa_id_card</td>\n",
       "    </tr>\n",
       "    <tr>\n",
       "      <th>3</th>\n",
       "      <td>2339a9b08b</td>\n",
       "      <td>REPUBLIC OF SOUTH AFRICA zz NATIONAL IDENTITY ...</td>\n",
       "      <td>as much as i love to be hopeful, i reckon the ...</td>\n",
       "      <td>sa_id_card</td>\n",
       "    </tr>\n",
       "    <tr>\n",
       "      <th>4</th>\n",
       "      <td>16fab9f95b</td>\n",
       "      <td>REPUBLIC OF SOUTH AFRICA zz zz NATIONAL IDENTI...</td>\n",
       "      <td>like</td>\n",
       "      <td>sa_id_card</td>\n",
       "    </tr>\n",
       "  </tbody>\n",
       "</table>\n",
       "</div>"
      ],
      "text/plain": [
       "       textID                                               text  \\\n",
       "0  50e14c0bb8  DNAL IDENTITY CARD zz zz SURNAME: zz JUNGE zz ...   \n",
       "1  e050245fbd  REPUBLIC OF SOUTH AFRICA zz zz NATIONAL IDENTI...   \n",
       "2  fc2cbefa9d  REPUBLIC OF SOUTH AFRICA zz NATIONAL IDENTITY ...   \n",
       "3  2339a9b08b  REPUBLIC OF SOUTH AFRICA zz NATIONAL IDENTITY ...   \n",
       "4  16fab9f95b  REPUBLIC OF SOUTH AFRICA zz zz NATIONAL IDENTI...   \n",
       "\n",
       "                                       selected_text     classes  \n",
       "0                                         Soooo high  sa_id_card  \n",
       "1                                        Both of you  sa_id_card  \n",
       "2                       Wow... u just became cooler.  sa_id_card  \n",
       "3  as much as i love to be hopeful, i reckon the ...  sa_id_card  \n",
       "4                                               like  sa_id_card  "
      ]
     },
     "execution_count": 503,
     "metadata": {},
     "output_type": "execute_result"
    }
   ],
   "source": [
    "df=pd.read_csv('data_saad.csv')\n",
    "df.head(5)"
   ]
  },
  {
   "cell_type": "code",
   "execution_count": 504,
   "metadata": {},
   "outputs": [
    {
     "data": {
      "text/plain": [
       "textID           0\n",
       "text             0\n",
       "selected_text    0\n",
       "classes          0\n",
       "dtype: int64"
      ]
     },
     "execution_count": 504,
     "metadata": {},
     "output_type": "execute_result"
    }
   ],
   "source": [
    "df.isnull().sum()"
   ]
  },
  {
   "cell_type": "code",
   "execution_count": 505,
   "metadata": {},
   "outputs": [
    {
     "data": {
      "text/plain": [
       "20"
      ]
     },
     "execution_count": 505,
     "metadata": {},
     "output_type": "execute_result"
    }
   ],
   "source": [
    "df['text'].duplicated().sum()"
   ]
  },
  {
   "cell_type": "code",
   "execution_count": 506,
   "metadata": {},
   "outputs": [
    {
     "data": {
      "text/html": [
       "<div>\n",
       "<style scoped>\n",
       "    .dataframe tbody tr th:only-of-type {\n",
       "        vertical-align: middle;\n",
       "    }\n",
       "\n",
       "    .dataframe tbody tr th {\n",
       "        vertical-align: top;\n",
       "    }\n",
       "\n",
       "    .dataframe thead th {\n",
       "        text-align: right;\n",
       "    }\n",
       "</style>\n",
       "<table border=\"1\" class=\"dataframe\">\n",
       "  <thead>\n",
       "    <tr style=\"text-align: right;\">\n",
       "      <th></th>\n",
       "      <th>textID</th>\n",
       "      <th>text</th>\n",
       "      <th>selected_text</th>\n",
       "      <th>classes</th>\n",
       "    </tr>\n",
       "  </thead>\n",
       "  <tbody>\n",
       "    <tr>\n",
       "      <th>129</th>\n",
       "      <td>e48b0b8a23</td>\n",
       "      <td>REPUBLIC OF ZIMBABWE zz NATIONAL REGISTRATION ...</td>\n",
       "      <td>interesting.</td>\n",
       "      <td>zim_id_card</td>\n",
       "    </tr>\n",
       "    <tr>\n",
       "      <th>130</th>\n",
       "      <td>7de057cf40</td>\n",
       "      <td>REPUBLIC OF ZIMBABWE zz NATIONAL REGISTRATION ...</td>\n",
       "      <td>is cleaning the house for her family who is co...</td>\n",
       "      <td>zim_id_card</td>\n",
       "    </tr>\n",
       "    <tr>\n",
       "      <th>131</th>\n",
       "      <td>9ce5570064</td>\n",
       "      <td>REPUBLIC OF ZIMBABWE zz NATIONAL REGISTRATION ...</td>\n",
       "      <td>gotta restart my computer .. I thought Win7 wa...</td>\n",
       "      <td>zim_id_card</td>\n",
       "    </tr>\n",
       "    <tr>\n",
       "      <th>132</th>\n",
       "      <td>0c8cc71c46</td>\n",
       "      <td>REPUBLIC OF ZIMBABWE zz NATIONAL REGISTRATION ...</td>\n",
       "      <td>SEe waT I Mean bOuT FoLL0w fRiiDaYs... It`S cA...</td>\n",
       "      <td>zim_id_card</td>\n",
       "    </tr>\n",
       "    <tr>\n",
       "      <th>153</th>\n",
       "      <td>a05aea73d7</td>\n",
       "      <td>REPUBLIC OF ZIMBABWE zz NATIONAL REGISTRATION ...</td>\n",
       "      <td>I wish I was allowed to go</td>\n",
       "      <td>zim_id_card</td>\n",
       "    </tr>\n",
       "    <tr>\n",
       "      <th>154</th>\n",
       "      <td>9c4817f73b</td>\n",
       "      <td>KEPUBLIC OF ZMBABWE zz NATIONAL REGISTRATION z...</td>\n",
       "      <td>if u have a friendster add me!!!!!!!!!        ...</td>\n",
       "      <td>zim_id_card</td>\n",
       "    </tr>\n",
       "    <tr>\n",
       "      <th>155</th>\n",
       "      <td>f0c1601d8b</td>\n",
       "      <td>REPUBLIC OF ZIMBABWE zz NATIONAL REGISTRATION ...</td>\n",
       "      <td>has tickets.......?</td>\n",
       "      <td>zim_id_card</td>\n",
       "    </tr>\n",
       "    <tr>\n",
       "      <th>156</th>\n",
       "      <td>d421fbd332</td>\n",
       "      <td>KEPUBLIC OF ZMBABWE zz NATIONAL REGISTRATION z...</td>\n",
       "      <td>Thank you,</td>\n",
       "      <td>zim_id_card</td>\n",
       "    </tr>\n",
       "    <tr>\n",
       "      <th>159</th>\n",
       "      <td>43e9a93104</td>\n",
       "      <td>REPUBLIC OF ZIMBABWE zz NATIONAL REGISTRATION ...</td>\n",
       "      <td>I don`t feel confident</td>\n",
       "      <td>zim_id_card</td>\n",
       "    </tr>\n",
       "    <tr>\n",
       "      <th>160</th>\n",
       "      <td>401869d615</td>\n",
       "      <td>REPBUIC OF ZIMBABWE zz NATIONAL REGISTRATION z...</td>\n",
       "      <td>sad.</td>\n",
       "      <td>zim_id_card</td>\n",
       "    </tr>\n",
       "    <tr>\n",
       "      <th>161</th>\n",
       "      <td>9843c4688e</td>\n",
       "      <td>REPUBLIC OF ZIMBABWE zz NATIONAL REGISTRATION ...</td>\n",
       "      <td>hahaa your awesomee !</td>\n",
       "      <td>zim_id_card</td>\n",
       "    </tr>\n",
       "    <tr>\n",
       "      <th>162</th>\n",
       "      <td>87fbf14655</td>\n",
       "      <td>REPBUIC OF ZIMBABWE zz NATIONAL REGISTRATION z...</td>\n",
       "      <td>awesomeeeee</td>\n",
       "      <td>zim_id_card</td>\n",
       "    </tr>\n",
       "    <tr>\n",
       "      <th>174</th>\n",
       "      <td>29dfaf5e3b</td>\n",
       "      <td>NATIONAL REGISTRATION zz zz ID zz 45-2347479 J...</td>\n",
       "      <td>good</td>\n",
       "      <td>zim_id_card</td>\n",
       "    </tr>\n",
       "    <tr>\n",
       "      <th>175</th>\n",
       "      <td>974b35f889</td>\n",
       "      <td>REPUBLC OF ZIMBABWE zz NATIONAL REGISTRATION z...</td>\n",
       "      <td>zim_license+</td>\n",
       "      <td>zim_id_card</td>\n",
       "    </tr>\n",
       "    <tr>\n",
       "      <th>176</th>\n",
       "      <td>b495300bbf</td>\n",
       "      <td>ID zz zz 45-2347479 J 38 CIT M zz NCUBE zz NAN...</td>\n",
       "      <td>painful.</td>\n",
       "      <td>zim_id_card</td>\n",
       "    </tr>\n",
       "    <tr>\n",
       "      <th>177</th>\n",
       "      <td>504539e6ec</td>\n",
       "      <td>NATIONAL REGISTRATION zz zz ID zz 45-2347479 J...</td>\n",
       "      <td>sad?</td>\n",
       "      <td>zim_id_card</td>\n",
       "    </tr>\n",
       "    <tr>\n",
       "      <th>178</th>\n",
       "      <td>7864a29e5c</td>\n",
       "      <td>REPUBLC OF ZIMBABWE zz NATIONAL REGISTRATION z...</td>\n",
       "      <td>Soooo excited</td>\n",
       "      <td>zim_id_card</td>\n",
       "    </tr>\n",
       "    <tr>\n",
       "      <th>179</th>\n",
       "      <td>cdf87e4b21</td>\n",
       "      <td>ID zz zz 45-2347479 J 38 CIT M zz NCUBE zz NAN...</td>\n",
       "      <td>Both of us</td>\n",
       "      <td>zim_id_card</td>\n",
       "    </tr>\n",
       "    <tr>\n",
       "      <th>180</th>\n",
       "      <td>53f19d864a</td>\n",
       "      <td>NATIONAL REGISTRATION zz zz ID zz 45-2347479 J...</td>\n",
       "      <td>Wow, you're getting cooler.</td>\n",
       "      <td>zim_id_card</td>\n",
       "    </tr>\n",
       "    <tr>\n",
       "      <th>181</th>\n",
       "      <td>e7b63ac910</td>\n",
       "      <td>REPUBLC OF ZIMBABWE zz NATIONAL REGISTRATION z...</td>\n",
       "      <td>Despite my hopefulness, I think chances are sl...</td>\n",
       "      <td>zim_id_card</td>\n",
       "    </tr>\n",
       "    <tr>\n",
       "      <th>182</th>\n",
       "      <td>a218f3e75b</td>\n",
       "      <td>ID zz zz 45-2347479 J 38 CIT M zz NCUBE zz NAN...</td>\n",
       "      <td>Just like that</td>\n",
       "      <td>zim_id_card</td>\n",
       "    </tr>\n",
       "    <tr>\n",
       "      <th>193</th>\n",
       "      <td>59c73b6e2a</td>\n",
       "      <td>REPUBLIC OF ZIMBABWE zz NATIONAL REGISTRATION ...</td>\n",
       "      <td>Cleaning up for family's visit later today.</td>\n",
       "      <td>zim_id_card</td>\n",
       "    </tr>\n",
       "    <tr>\n",
       "      <th>194</th>\n",
       "      <td>8a16f42c3d</td>\n",
       "      <td>REPUBLIC OF ZIMBABWE zz NATIONAL REGISTRATION ...</td>\n",
       "      <td>Time for a computer restart... Wasn't Win7 sup...</td>\n",
       "      <td>zim_id_card</td>\n",
       "    </tr>\n",
       "    <tr>\n",
       "      <th>195</th>\n",
       "      <td>6d52e89a17</td>\n",
       "      <td>REPUBLIC OF ZIMBABWE zz NATIONAL REGISTRATION ...</td>\n",
       "      <td>Seriously, people, Lose Followers Friday is a ...</td>\n",
       "      <td>zim_id_card</td>\n",
       "    </tr>\n",
       "    <tr>\n",
       "      <th>196</th>\n",
       "      <td>b1f3c60a4e</td>\n",
       "      <td>REPUBLIC OF ZIMBABWE zz NATIONAL REGISTRATION ...</td>\n",
       "      <td>The free fillin' app on my device is addictive...</td>\n",
       "      <td>zim_id_card</td>\n",
       "    </tr>\n",
       "    <tr>\n",
       "      <th>267</th>\n",
       "      <td>561b44a42f</td>\n",
       "      <td>ZIMABWE zz NATIONAL REGISTRATION zz 47-784879 ...</td>\n",
       "      <td>safe</td>\n",
       "      <td>zim_id_card</td>\n",
       "    </tr>\n",
       "    <tr>\n",
       "      <th>268</th>\n",
       "      <td>a05aea73d8</td>\n",
       "      <td>NATIONAL REGISTRATION zz 47-784879 H 38 CIT F ...</td>\n",
       "      <td>I wish I was allowed to go</td>\n",
       "      <td>zim_id_card</td>\n",
       "    </tr>\n",
       "    <tr>\n",
       "      <th>269</th>\n",
       "      <td>9c4817f73b</td>\n",
       "      <td>NATIONAL REGISTRATION zz zz 47-784879 H 38 CIT...</td>\n",
       "      <td>if u have a friendster add me!!!!!!!!!        ...</td>\n",
       "      <td>zim_id_card</td>\n",
       "    </tr>\n",
       "    <tr>\n",
       "      <th>270</th>\n",
       "      <td>f0c1601d8b</td>\n",
       "      <td>ZIMABWE zz NATIONAL REGISTRATION zz 47-784879 ...</td>\n",
       "      <td>has tickets.......?</td>\n",
       "      <td>zim_id_card</td>\n",
       "    </tr>\n",
       "    <tr>\n",
       "      <th>271</th>\n",
       "      <td>d421fbd333</td>\n",
       "      <td>NATIONAL REGISTRATION zz 47-784879 H 38 CIT F ...</td>\n",
       "      <td>Thank you,</td>\n",
       "      <td>zim_id_card</td>\n",
       "    </tr>\n",
       "    <tr>\n",
       "      <th>272</th>\n",
       "      <td>99b7ec4b0b</td>\n",
       "      <td>NATIONAL REGISTRATION zz zz 47-784879 H 38 CIT...</td>\n",
       "      <td>ACSM. it`s unfathomable.  i think the other on...</td>\n",
       "      <td>zim_id_card</td>\n",
       "    </tr>\n",
       "    <tr>\n",
       "      <th>273</th>\n",
       "      <td>a655fbb5eb</td>\n",
       "      <td>NATIONAL REGISTRATION zz 76-797579 H 37 CIT F ...</td>\n",
       "      <td>I love my</td>\n",
       "      <td>zim_id_card</td>\n",
       "    </tr>\n",
       "    <tr>\n",
       "      <th>275</th>\n",
       "      <td>401869d616</td>\n",
       "      <td>NATIONAL REGISTRATION zz 76-797579 H 37 CIT F ...</td>\n",
       "      <td>sad.</td>\n",
       "      <td>zim_id_card</td>\n",
       "    </tr>\n",
       "    <tr>\n",
       "      <th>276</th>\n",
       "      <td>9843c4688e</td>\n",
       "      <td>NATIONAL REGISTRATION zz 76-797579 H 37 CIT F ...</td>\n",
       "      <td>hahaa your awesomee !</td>\n",
       "      <td>zim_id_card</td>\n",
       "    </tr>\n",
       "    <tr>\n",
       "      <th>278</th>\n",
       "      <td>22d1806fa1</td>\n",
       "      <td>NATIONAL REGISTRATION zz 76-797579 H 37 CIT F ...</td>\n",
       "      <td>I hate Fallout 3 it keeps making me jump, I`m ...</td>\n",
       "      <td>zim_id_card</td>\n",
       "    </tr>\n",
       "    <tr>\n",
       "      <th>384</th>\n",
       "      <td>9c4817f73b</td>\n",
       "      <td>REPUBLIC OF ZIMBABWE zz NATIONAL REGISTRATION ...</td>\n",
       "      <td>if u have a friendster add me!!!!!!!!!        ...</td>\n",
       "      <td>zim_id_card</td>\n",
       "    </tr>\n",
       "    <tr>\n",
       "      <th>400</th>\n",
       "      <td>24532ab83c</td>\n",
       "      <td>REPUBLIC OF ZIMBABWE zz NATIONAL REGISTRATION ...</td>\n",
       "      <td>at dads, watching some mtv and am going on sim...</td>\n",
       "      <td>zim_id_card</td>\n",
       "    </tr>\n",
       "  </tbody>\n",
       "</table>\n",
       "</div>"
      ],
      "text/plain": [
       "         textID                                               text  \\\n",
       "129  e48b0b8a23  REPUBLIC OF ZIMBABWE zz NATIONAL REGISTRATION ...   \n",
       "130  7de057cf40  REPUBLIC OF ZIMBABWE zz NATIONAL REGISTRATION ...   \n",
       "131  9ce5570064  REPUBLIC OF ZIMBABWE zz NATIONAL REGISTRATION ...   \n",
       "132  0c8cc71c46  REPUBLIC OF ZIMBABWE zz NATIONAL REGISTRATION ...   \n",
       "153  a05aea73d7  REPUBLIC OF ZIMBABWE zz NATIONAL REGISTRATION ...   \n",
       "154  9c4817f73b  KEPUBLIC OF ZMBABWE zz NATIONAL REGISTRATION z...   \n",
       "155  f0c1601d8b  REPUBLIC OF ZIMBABWE zz NATIONAL REGISTRATION ...   \n",
       "156  d421fbd332  KEPUBLIC OF ZMBABWE zz NATIONAL REGISTRATION z...   \n",
       "159  43e9a93104  REPUBLIC OF ZIMBABWE zz NATIONAL REGISTRATION ...   \n",
       "160  401869d615  REPBUIC OF ZIMBABWE zz NATIONAL REGISTRATION z...   \n",
       "161  9843c4688e  REPUBLIC OF ZIMBABWE zz NATIONAL REGISTRATION ...   \n",
       "162  87fbf14655  REPBUIC OF ZIMBABWE zz NATIONAL REGISTRATION z...   \n",
       "174  29dfaf5e3b  NATIONAL REGISTRATION zz zz ID zz 45-2347479 J...   \n",
       "175  974b35f889  REPUBLC OF ZIMBABWE zz NATIONAL REGISTRATION z...   \n",
       "176  b495300bbf  ID zz zz 45-2347479 J 38 CIT M zz NCUBE zz NAN...   \n",
       "177  504539e6ec  NATIONAL REGISTRATION zz zz ID zz 45-2347479 J...   \n",
       "178  7864a29e5c  REPUBLC OF ZIMBABWE zz NATIONAL REGISTRATION z...   \n",
       "179  cdf87e4b21  ID zz zz 45-2347479 J 38 CIT M zz NCUBE zz NAN...   \n",
       "180  53f19d864a  NATIONAL REGISTRATION zz zz ID zz 45-2347479 J...   \n",
       "181  e7b63ac910  REPUBLC OF ZIMBABWE zz NATIONAL REGISTRATION z...   \n",
       "182  a218f3e75b  ID zz zz 45-2347479 J 38 CIT M zz NCUBE zz NAN...   \n",
       "193  59c73b6e2a  REPUBLIC OF ZIMBABWE zz NATIONAL REGISTRATION ...   \n",
       "194  8a16f42c3d  REPUBLIC OF ZIMBABWE zz NATIONAL REGISTRATION ...   \n",
       "195  6d52e89a17  REPUBLIC OF ZIMBABWE zz NATIONAL REGISTRATION ...   \n",
       "196  b1f3c60a4e  REPUBLIC OF ZIMBABWE zz NATIONAL REGISTRATION ...   \n",
       "267  561b44a42f  ZIMABWE zz NATIONAL REGISTRATION zz 47-784879 ...   \n",
       "268  a05aea73d8  NATIONAL REGISTRATION zz 47-784879 H 38 CIT F ...   \n",
       "269  9c4817f73b  NATIONAL REGISTRATION zz zz 47-784879 H 38 CIT...   \n",
       "270  f0c1601d8b  ZIMABWE zz NATIONAL REGISTRATION zz 47-784879 ...   \n",
       "271  d421fbd333  NATIONAL REGISTRATION zz 47-784879 H 38 CIT F ...   \n",
       "272  99b7ec4b0b  NATIONAL REGISTRATION zz zz 47-784879 H 38 CIT...   \n",
       "273  a655fbb5eb  NATIONAL REGISTRATION zz 76-797579 H 37 CIT F ...   \n",
       "275  401869d616  NATIONAL REGISTRATION zz 76-797579 H 37 CIT F ...   \n",
       "276  9843c4688e  NATIONAL REGISTRATION zz 76-797579 H 37 CIT F ...   \n",
       "278  22d1806fa1  NATIONAL REGISTRATION zz 76-797579 H 37 CIT F ...   \n",
       "384  9c4817f73b  REPUBLIC OF ZIMBABWE zz NATIONAL REGISTRATION ...   \n",
       "400  24532ab83c  REPUBLIC OF ZIMBABWE zz NATIONAL REGISTRATION ...   \n",
       "\n",
       "                                         selected_text      classes  \n",
       "129                                       interesting.  zim_id_card  \n",
       "130  is cleaning the house for her family who is co...  zim_id_card  \n",
       "131  gotta restart my computer .. I thought Win7 wa...  zim_id_card  \n",
       "132  SEe waT I Mean bOuT FoLL0w fRiiDaYs... It`S cA...  zim_id_card  \n",
       "153                         I wish I was allowed to go  zim_id_card  \n",
       "154  if u have a friendster add me!!!!!!!!!        ...  zim_id_card  \n",
       "155                                has tickets.......?  zim_id_card  \n",
       "156                                         Thank you,  zim_id_card  \n",
       "159                             I don`t feel confident  zim_id_card  \n",
       "160                                               sad.  zim_id_card  \n",
       "161                              hahaa your awesomee !  zim_id_card  \n",
       "162                                        awesomeeeee  zim_id_card  \n",
       "174                                               good  zim_id_card  \n",
       "175                                       zim_license+  zim_id_card  \n",
       "176                                           painful.  zim_id_card  \n",
       "177                                               sad?  zim_id_card  \n",
       "178                                      Soooo excited  zim_id_card  \n",
       "179                                         Both of us  zim_id_card  \n",
       "180                        Wow, you're getting cooler.  zim_id_card  \n",
       "181  Despite my hopefulness, I think chances are sl...  zim_id_card  \n",
       "182                                     Just like that  zim_id_card  \n",
       "193        Cleaning up for family's visit later today.  zim_id_card  \n",
       "194  Time for a computer restart... Wasn't Win7 sup...  zim_id_card  \n",
       "195  Seriously, people, Lose Followers Friday is a ...  zim_id_card  \n",
       "196  The free fillin' app on my device is addictive...  zim_id_card  \n",
       "267                                               safe  zim_id_card  \n",
       "268                         I wish I was allowed to go  zim_id_card  \n",
       "269  if u have a friendster add me!!!!!!!!!        ...  zim_id_card  \n",
       "270                                has tickets.......?  zim_id_card  \n",
       "271                                         Thank you,  zim_id_card  \n",
       "272  ACSM. it`s unfathomable.  i think the other on...  zim_id_card  \n",
       "273                                          I love my  zim_id_card  \n",
       "275                                               sad.  zim_id_card  \n",
       "276                              hahaa your awesomee !  zim_id_card  \n",
       "278  I hate Fallout 3 it keeps making me jump, I`m ...  zim_id_card  \n",
       "384  if u have a friendster add me!!!!!!!!!        ...  zim_id_card  \n",
       "400  at dads, watching some mtv and am going on sim...  zim_id_card  "
      ]
     },
     "execution_count": 506,
     "metadata": {},
     "output_type": "execute_result"
    }
   ],
   "source": [
    "df[df['text'].duplicated(keep=False)]"
   ]
  },
  {
   "cell_type": "markdown",
   "metadata": {},
   "source": [
    "We observe that there are 20 duplicate rows based on the 'text' attributes but the selected_text from them is different. We also observe that the all these duplicate rows belong to the same class. So,it is better to drop these duplicate rows"
   ]
  },
  {
   "cell_type": "code",
   "execution_count": 507,
   "metadata": {},
   "outputs": [],
   "source": [
    "df = df.drop_duplicates(subset='text')"
   ]
  },
  {
   "cell_type": "code",
   "execution_count": 508,
   "metadata": {},
   "outputs": [
    {
     "data": {
      "text/plain": [
       "0"
      ]
     },
     "execution_count": 508,
     "metadata": {},
     "output_type": "execute_result"
    }
   ],
   "source": [
    "df['text'].duplicated().sum()"
   ]
  },
  {
   "cell_type": "code",
   "execution_count": 509,
   "metadata": {},
   "outputs": [
    {
     "data": {
      "text/plain": [
       "(570, 4)"
      ]
     },
     "execution_count": 509,
     "metadata": {},
     "output_type": "execute_result"
    }
   ],
   "source": [
    "df.shape"
   ]
  },
  {
   "cell_type": "code",
   "execution_count": 510,
   "metadata": {},
   "outputs": [
    {
     "data": {
      "text/plain": [
       "Index(['textID', 'text', 'selected_text', 'classes'], dtype='object')"
      ]
     },
     "execution_count": 510,
     "metadata": {},
     "output_type": "execute_result"
    }
   ],
   "source": [
    "df.columns"
   ]
  },
  {
   "cell_type": "code",
   "execution_count": 511,
   "metadata": {},
   "outputs": [],
   "source": [
    "df=df.drop('selected_text',axis=1)"
   ]
  },
  {
   "cell_type": "code",
   "execution_count": 512,
   "metadata": {},
   "outputs": [
    {
     "data": {
      "text/html": [
       "<div>\n",
       "<style scoped>\n",
       "    .dataframe tbody tr th:only-of-type {\n",
       "        vertical-align: middle;\n",
       "    }\n",
       "\n",
       "    .dataframe tbody tr th {\n",
       "        vertical-align: top;\n",
       "    }\n",
       "\n",
       "    .dataframe thead th {\n",
       "        text-align: right;\n",
       "    }\n",
       "</style>\n",
       "<table border=\"1\" class=\"dataframe\">\n",
       "  <thead>\n",
       "    <tr style=\"text-align: right;\">\n",
       "      <th></th>\n",
       "      <th>textID</th>\n",
       "      <th>text</th>\n",
       "      <th>classes</th>\n",
       "    </tr>\n",
       "  </thead>\n",
       "  <tbody>\n",
       "    <tr>\n",
       "      <th>0</th>\n",
       "      <td>50e14c0bb8</td>\n",
       "      <td>DNAL IDENTITY CARD zz zz SURNAME: zz JUNGE zz ...</td>\n",
       "      <td>sa_id_card</td>\n",
       "    </tr>\n",
       "    <tr>\n",
       "      <th>1</th>\n",
       "      <td>e050245fbd</td>\n",
       "      <td>REPUBLIC OF SOUTH AFRICA zz zz NATIONAL IDENTI...</td>\n",
       "      <td>sa_id_card</td>\n",
       "    </tr>\n",
       "    <tr>\n",
       "      <th>2</th>\n",
       "      <td>fc2cbefa9d</td>\n",
       "      <td>REPUBLIC OF SOUTH AFRICA zz NATIONAL IDENTITY ...</td>\n",
       "      <td>sa_id_card</td>\n",
       "    </tr>\n",
       "    <tr>\n",
       "      <th>3</th>\n",
       "      <td>2339a9b08b</td>\n",
       "      <td>REPUBLIC OF SOUTH AFRICA zz NATIONAL IDENTITY ...</td>\n",
       "      <td>sa_id_card</td>\n",
       "    </tr>\n",
       "    <tr>\n",
       "      <th>4</th>\n",
       "      <td>16fab9f95b</td>\n",
       "      <td>REPUBLIC OF SOUTH AFRICA zz zz NATIONAL IDENTI...</td>\n",
       "      <td>sa_id_card</td>\n",
       "    </tr>\n",
       "  </tbody>\n",
       "</table>\n",
       "</div>"
      ],
      "text/plain": [
       "       textID                                               text     classes\n",
       "0  50e14c0bb8  DNAL IDENTITY CARD zz zz SURNAME: zz JUNGE zz ...  sa_id_card\n",
       "1  e050245fbd  REPUBLIC OF SOUTH AFRICA zz zz NATIONAL IDENTI...  sa_id_card\n",
       "2  fc2cbefa9d  REPUBLIC OF SOUTH AFRICA zz NATIONAL IDENTITY ...  sa_id_card\n",
       "3  2339a9b08b  REPUBLIC OF SOUTH AFRICA zz NATIONAL IDENTITY ...  sa_id_card\n",
       "4  16fab9f95b  REPUBLIC OF SOUTH AFRICA zz zz NATIONAL IDENTI...  sa_id_card"
      ]
     },
     "execution_count": 512,
     "metadata": {},
     "output_type": "execute_result"
    }
   ],
   "source": [
    "df.head(5)"
   ]
  },
  {
   "cell_type": "markdown",
   "metadata": {},
   "source": [
    "**MAPPING THE CLASSES TO NUMERICAL EQUIVALENETS**\n",
    "\n"
   ]
  },
  {
   "cell_type": "code",
   "execution_count": 513,
   "metadata": {},
   "outputs": [
    {
     "data": {
      "text/plain": [
       "classes\n",
       "zim_id_card     425\n",
       "sa_id_card       74\n",
       "zim_passport     46\n",
       "sa_license        9\n",
       "sa_passport       9\n",
       "zim_license       7\n",
       "Name: count, dtype: int64"
      ]
     },
     "execution_count": 513,
     "metadata": {},
     "output_type": "execute_result"
    }
   ],
   "source": [
    "df['classes'].value_counts()"
   ]
  },
  {
   "cell_type": "code",
   "execution_count": 514,
   "metadata": {},
   "outputs": [
    {
     "name": "stderr",
     "output_type": "stream",
     "text": [
      "C:\\Users\\awans\\AppData\\Local\\Temp\\ipykernel_16348\\1329326615.py:1: FutureWarning: Downcasting behavior in `replace` is deprecated and will be removed in a future version. To retain the old behavior, explicitly call `result.infer_objects(copy=False)`. To opt-in to the future behavior, set `pd.set_option('future.no_silent_downcasting', True)`\n",
      "  df['classes']=df['classes'].replace({'zim_id_card':0,'sa_id_card':1,'zim_passport':2,'sa_license':3,'sa_passport':4,'zim_license':5})\n"
     ]
    }
   ],
   "source": [
    "df['classes']=df['classes'].replace({'zim_id_card':0,'sa_id_card':1,'zim_passport':2,'sa_license':3,'sa_passport':4,'zim_license':5})"
   ]
  },
  {
   "cell_type": "markdown",
   "metadata": {},
   "source": [
    "**SPLITTING THE DATASET INTO TEST,TRAIN AND VALIDATION SETS**\n",
    "\n",
    "Using Sklearn test_train_split function,we randomly divide the dataset into 3 sets, testing,training and validation. We give 70% data to training,10% to validation and 20% to testing"
   ]
  },
  {
   "cell_type": "code",
   "execution_count": 515,
   "metadata": {},
   "outputs": [],
   "source": [
    "from sklearn.model_selection import train_test_split\n",
    "train_val_df, test_df = train_test_split(df, test_size=0.3, random_state=42, stratify=df['classes'])\n",
    "train_df, valid_df = train_test_split(train_val_df, test_size=0.125, random_state=30, stratify=train_val_df['classes'])"
   ]
  },
  {
   "cell_type": "markdown",
   "metadata": {},
   "source": [
    "**COUNTING ALL THE LABELS IN EACH DATASET**"
   ]
  },
  {
   "cell_type": "code",
   "execution_count": 516,
   "metadata": {},
   "outputs": [
    {
     "data": {
      "text/plain": [
       "classes\n",
       "0    425\n",
       "1     74\n",
       "2     46\n",
       "3      9\n",
       "4      9\n",
       "5      7\n",
       "Name: count, dtype: int64"
      ]
     },
     "execution_count": 516,
     "metadata": {},
     "output_type": "execute_result"
    }
   ],
   "source": [
    "df['classes'].value_counts()"
   ]
  },
  {
   "cell_type": "code",
   "execution_count": 517,
   "metadata": {},
   "outputs": [
    {
     "data": {
      "text/plain": [
       "classes\n",
       "0    261\n",
       "1     46\n",
       "2     28\n",
       "4      5\n",
       "3      5\n",
       "5      4\n",
       "Name: count, dtype: int64"
      ]
     },
     "execution_count": 517,
     "metadata": {},
     "output_type": "execute_result"
    }
   ],
   "source": [
    "train_df['classes'].value_counts()"
   ]
  },
  {
   "cell_type": "code",
   "execution_count": 518,
   "metadata": {},
   "outputs": [
    {
     "data": {
      "text/plain": [
       "classes\n",
       "0    127\n",
       "1     22\n",
       "2     14\n",
       "4      3\n",
       "3      3\n",
       "5      2\n",
       "Name: count, dtype: int64"
      ]
     },
     "execution_count": 518,
     "metadata": {},
     "output_type": "execute_result"
    }
   ],
   "source": [
    "test_df['classes'].value_counts()"
   ]
  },
  {
   "cell_type": "code",
   "execution_count": 519,
   "metadata": {},
   "outputs": [
    {
     "data": {
      "text/plain": [
       "classes\n",
       "0    37\n",
       "1     6\n",
       "2     4\n",
       "5     1\n",
       "4     1\n",
       "3     1\n",
       "Name: count, dtype: int64"
      ]
     },
     "execution_count": 519,
     "metadata": {},
     "output_type": "execute_result"
    }
   ],
   "source": [
    "valid_df['classes'].value_counts()"
   ]
  },
  {
   "cell_type": "markdown",
   "metadata": {},
   "source": [
    "We observe that all the datasets are properly balanced "
   ]
  },
  {
   "cell_type": "markdown",
   "metadata": {},
   "source": [
    "**DATA VISUALIZATION**"
   ]
  },
  {
   "cell_type": "code",
   "execution_count": 520,
   "metadata": {},
   "outputs": [
    {
     "name": "stderr",
     "output_type": "stream",
     "text": [
      "C:\\Users\\awans\\AppData\\Local\\Temp\\ipykernel_16348\\2233753964.py:2: FutureWarning: \n",
      "\n",
      "Passing `palette` without assigning `hue` is deprecated and will be removed in v0.14.0. Assign the `x` variable to `hue` and set `legend=False` for the same effect.\n",
      "\n",
      "  sns.countplot(x='classes',data=df,palette='viridis',ax=axs[0,0])\n",
      "C:\\Users\\awans\\AppData\\Local\\Temp\\ipykernel_16348\\2233753964.py:5: FutureWarning: \n",
      "\n",
      "Passing `palette` without assigning `hue` is deprecated and will be removed in v0.14.0. Assign the `x` variable to `hue` and set `legend=False` for the same effect.\n",
      "\n",
      "  sns.countplot(x='classes',data=train_df,palette='viridis',ax=axs[0,1])\n",
      "C:\\Users\\awans\\AppData\\Local\\Temp\\ipykernel_16348\\2233753964.py:8: FutureWarning: \n",
      "\n",
      "Passing `palette` without assigning `hue` is deprecated and will be removed in v0.14.0. Assign the `x` variable to `hue` and set `legend=False` for the same effect.\n",
      "\n",
      "  sns.countplot(x='classes',data=test_df,palette='viridis',ax=axs[1,0])\n",
      "C:\\Users\\awans\\AppData\\Local\\Temp\\ipykernel_16348\\2233753964.py:11: FutureWarning: \n",
      "\n",
      "Passing `palette` without assigning `hue` is deprecated and will be removed in v0.14.0. Assign the `x` variable to `hue` and set `legend=False` for the same effect.\n",
      "\n",
      "  sns.countplot(x='classes',data=valid_df,palette='viridis',ax=axs[1,1])\n"
     ]
    },
    {
     "data": {
      "image/png": "[encoded data removed]",
      "text/plain": [
       "<Figure size 1600x1000 with 4 Axes>"
      ]
     },
     "metadata": {},
     "output_type": "display_data"
    }
   ],
   "source": [
    "fig, axs = plt.subplots(2, 2, figsize=(16, 10))\n",
    "sns.countplot(x='classes',data=df,palette='viridis',ax=axs[0,0])\n",
    "axs[0,0].set_title('Distribution of Classes of Original DataSet')\n",
    "\n",
    "sns.countplot(x='classes',data=train_df,palette='viridis',ax=axs[0,1])\n",
    "axs[0,1].set_title('Distribution of Classes of Training DataSet')\n",
    "\n",
    "sns.countplot(x='classes',data=test_df,palette='viridis',ax=axs[1,0])\n",
    "axs[1,0].set_title('Distribution of Classes of Testing DataSet')\n",
    "\n",
    "sns.countplot(x='classes',data=valid_df,palette='viridis',ax=axs[1,1])\n",
    "axs[1,1].set_title('Distribution of Classes of Validation DataSet')\n",
    "\n",
    "plt.show()\n",
    "\n",
    "\n"
   ]
  },
  {
   "cell_type": "code",
   "execution_count": 521,
   "metadata": {},
   "outputs": [],
   "source": [
    "def preprocess_text(text):\n",
    "    text = text.lower()\n",
    "    text = re.sub(r'[^a-z0-9\\s]', '', text)\n",
    "    text = re.sub(r'\\s+', ' ', text).strip()\n",
    "    \n",
    "    return text\n",
    "\n",
    "df['text'] = df['text'].apply(preprocess_text)"
   ]
  },
  {
   "cell_type": "code",
   "execution_count": 522,
   "metadata": {},
   "outputs": [
    {
     "data": {
      "text/plain": [
       "0      dnal identity card zz zz surname zz junge zz n...\n",
       "1      republic of south africa zz zz national identi...\n",
       "2      republic of south africa zz national identity ...\n",
       "3      republic of south africa zz national identity ...\n",
       "4      republic of south africa zz zz national identi...\n",
       "                             ...                        \n",
       "585    republic of zimbabwe zz zz passport zz passpor...\n",
       "586    republic of zimbabwe zz zz passport zz passpor...\n",
       "587    republic of zimbabwe zz zz passport zz passpor...\n",
       "588    republic of zimbabwe zz zz passport zz passpor...\n",
       "589    republic of zimbabwe zz zz passport zz passpor...\n",
       "Name: text, Length: 570, dtype: object"
      ]
     },
     "execution_count": 522,
     "metadata": {},
     "output_type": "execute_result"
    }
   ],
   "source": [
    "df['text']"
   ]
  },
  {
   "cell_type": "markdown",
   "metadata": {},
   "source": [
    "**USING TEXT VECTORIZOR**\n",
    "\n",
    "TF-IDF stands for Term Frequency-Inverse Document Frequency.\n",
    "TF-IDF is used to convert text data into numerical features that can be fed into a machine learning model.\n",
    "For sentiment analysis, we fit the features into the vectorizor"
   ]
  },
  {
   "cell_type": "code",
   "execution_count": 523,
   "metadata": {},
   "outputs": [
    {
     "name": "stdout",
     "output_type": "stream",
     "text": [
      "[[ 0  0  0 ...  0  0 15]\n",
      " [ 0  0  0 ...  0  0 12]\n",
      " [ 0  0  0 ...  0  0 11]\n",
      " ...\n",
      " [ 0  0  0 ...  0  2 11]\n",
      " [ 0  0  0 ...  0  0 12]\n",
      " [ 0  0  0 ...  0  0 13]]\n",
      "['00' '0005125389087' '0006125389087' ... 'zvishavane' 'zwe' 'zz']\n"
     ]
    }
   ],
   "source": [
    "from sklearn.feature_extraction.text import CountVectorizer\n",
    "vectorizer = CountVectorizer()\n",
    "x=vectorizer.fit_transform(train_df['text'])\n",
    "print(x.toarray())\n",
    "print(vectorizer.get_feature_names_out())\n"
   ]
  },
  {
   "cell_type": "markdown",
   "metadata": {},
   "source": [
    "**INSTANTIATING THE ChatDATASET CLASS**\n",
    "\n",
    "We create the ChatDATASET Class for our Neural Network. We will instatiate the dataframe and the vectorizer in the constructor. We will use the __len__() method to return length of the dataframe. The __getitem__() method will be used to return the columns transformed as  tensors for our Recurrent Neural Network"
   ]
  },
  {
   "cell_type": "code",
   "execution_count": 524,
   "metadata": {},
   "outputs": [],
   "source": [
    "\n",
    "class ChatDataset(Dataset):\n",
    "    def __init__(self, df, vectorizer):\n",
    "        self.df = df\n",
    "        self.vectorizer = vectorizer\n",
    "\n",
    "    def __len__(self):\n",
    "        return len(self.df)\n",
    "\n",
    "    def __getitem__(self, idx):\n",
    "        text = self.df.iloc[idx]['text']\n",
    "        label = self.df.iloc[idx]['classes']\n",
    "        features = self.vectorizer.transform([text]).toarray().squeeze()\n",
    "        return {'text': torch.tensor(features, dtype=torch.float), 'label': torch.tensor(label, dtype=torch.long)}\n"
   ]
  },
  {
   "cell_type": "markdown",
   "metadata": {},
   "source": [
    "**Instantiating the DataLoaders**"
   ]
  },
  {
   "cell_type": "code",
   "execution_count": 525,
   "metadata": {},
   "outputs": [],
   "source": [
    "\n",
    "train_dataset = ChatDataset(train_df, vectorizer)\n",
    "test_dataset = ChatDataset(test_df, vectorizer)\n",
    "valid_dataset=ChatDataset(valid_df, vectorizer)\n"
   ]
  },
  {
   "cell_type": "code",
   "execution_count": 526,
   "metadata": {},
   "outputs": [],
   "source": [
    "\n",
    "\n",
    "\n",
    "train_loader = DataLoader(train_dataset, batch_size=2, shuffle=True)\n",
    "test_loader = DataLoader(test_dataset, batch_size=2, shuffle=False)\n",
    "valid_loader=DataLoader(valid_dataset, batch_size=2, shuffle=True)\n"
   ]
  },
  {
   "cell_type": "code",
   "execution_count": 527,
   "metadata": {},
   "outputs": [
    {
     "name": "stdout",
     "output_type": "stream",
     "text": [
      "Number of features in vectorizer: 1542\n"
     ]
    }
   ],
   "source": [
    "print(\"Number of features in vectorizer:\", len(vectorizer.get_feature_names_out()))"
   ]
  },
  {
   "cell_type": "markdown",
   "metadata": {},
   "source": [
    "**BUILDING THE GRU MODEL**\n",
    "\n",
    "As the dataset is small, we will use a GRU model"
   ]
  },
  {
   "cell_type": "code",
   "execution_count": 528,
   "metadata": {},
   "outputs": [],
   "source": [
    "\n",
    "class LSTM_MODEL(nn.Module):\n",
    "    def __init__(self, input_dim, hidden_dim, output_dim):\n",
    "        super(LSTM_MODEL, self).__init__()\n",
    "        self.lstm = nn.LSTM(input_dim, hidden_dim, num_layers=1, batch_first=True)\n",
    "        self.fc = nn.Linear(hidden_dim, output_dim)\n",
    "\n",
    "    def forward(self, x):\n",
    "        _,(hidden,_)=self.lstm(x)\n",
    "        output=self.fc(hidden.squeeze(0))\n",
    "        return output\n",
    "\n",
    "device = torch.device('cuda' if torch.cuda.is_available() else 'cpu')\n",
    "model = LSTM_MODEL(input_dim=1542, hidden_dim=128, output_dim=6).to(device)\n",
    "criterion = nn.CrossEntropyLoss()\n",
    "optimizer = optim.Adam(model.parameters(), lr=0.001)"
   ]
  },
  {
   "cell_type": "markdown",
   "metadata": {},
   "source": [
    "**EVALUATING THE MODEL**"
   ]
  },
  {
   "cell_type": "code",
   "execution_count": 529,
   "metadata": {},
   "outputs": [],
   "source": [
    "def evaluate(loader,criterion):\n",
    "    model.eval()\n",
    "    total=0\n",
    "    with torch.no_grad():\n",
    "        for batch in loader:\n",
    "            text=batch['text'].to(device).unsqueeze(1)\n",
    "            label=batch['label'].to(device)\n",
    "\n",
    "            output=model(text)\n",
    "       \n",
    "            loss=criterion(output,label)\n",
    "            total+=loss.item()\n",
    "\n",
    "    avg=total/len(loader)\n",
    "    return avg"
   ]
  },
  {
   "cell_type": "markdown",
   "metadata": {},
   "source": [
    "**MODEL ACCURACY FUNCTION**"
   ]
  },
  {
   "cell_type": "code",
   "execution_count": 530,
   "metadata": {},
   "outputs": [],
   "source": [
    "from sklearn import metrics\n",
    "def model_eval(loader):\n",
    "    model.eval()\n",
    "    pred=[]\n",
    "    lab=[]\n",
    "    correct = 0\n",
    "    total = 0\n",
    "    with torch.no_grad():\n",
    "\n",
    "        for batch in loader:\n",
    "            text = batch['text'].to(device).unsqueeze(1)  \n",
    "            labels = batch['label'].to(device)\n",
    "        \n",
    "            outputs = model(text)\n",
    "            _, predicted = torch.max(outputs, 1)\n",
    "            total += labels.size(0)\n",
    "            correct += (predicted == labels).sum().item()\n",
    "    \n",
    "            pred.extend(predicted.cpu().numpy())\n",
    "            lab.extend(labels.cpu().numpy())\n",
    "\n",
    "        accuracy = correct / total\n",
    "        print(f'Accuracy: {(accuracy * 100)}%')\n",
    "\n",
    "\n",
    "    return pred,lab"
   ]
  },
  {
   "cell_type": "markdown",
   "metadata": {},
   "source": [
    "**TRAINING THE MODEL**"
   ]
  },
  {
   "cell_type": "code",
   "execution_count": 531,
   "metadata": {},
   "outputs": [
    {
     "name": "stdout",
     "output_type": "stream",
     "text": [
      "Epoch 1,Training Loss: 0.6079279942704099, Validation Loss:0.23965199738740922 \n",
      "Testing Accuracy:\n",
      "Accuracy: 94.15204678362574%\n",
      "Validation Accuracy:\n",
      "Accuracy: 92.0%\n",
      "Epoch 2,Training Loss: 0.06685136345148619, Validation Loss:0.1103506326302886 \n",
      "Testing Accuracy:\n",
      "Accuracy: 98.83040935672514%\n",
      "Validation Accuracy:\n",
      "Accuracy: 98.0%\n",
      "Epoch 3,Training Loss: 0.012939086130687168, Validation Loss:0.07476132150972262 \n",
      "Testing Accuracy:\n",
      "Accuracy: 99.41520467836257%\n",
      "Validation Accuracy:\n",
      "Accuracy: 98.0%\n",
      "Epoch 4,Training Loss: 0.004946215875845934, Validation Loss:0.062210784940980375 \n",
      "Testing Accuracy:\n",
      "Accuracy: 99.41520467836257%\n",
      "Validation Accuracy:\n",
      "Accuracy: 98.0%\n",
      "Epoch 5,Training Loss: 0.002810798569366203, Validation Loss:0.05981840360618662 \n",
      "Testing Accuracy:\n",
      "Accuracy: 99.41520467836257%\n",
      "Validation Accuracy:\n",
      "Accuracy: 98.0%\n",
      "Epoch 6,Training Loss: 0.0018326786587048057, Validation Loss:0.054874024256132546 \n",
      "Testing Accuracy:\n",
      "Accuracy: 99.41520467836257%\n",
      "Validation Accuracy:\n",
      "Accuracy: 98.0%\n",
      "Epoch 7,Training Loss: 0.001304101300982958, Validation Loss:0.05258809640450636 \n",
      "Testing Accuracy:\n",
      "Accuracy: 99.41520467836257%\n",
      "Validation Accuracy:\n",
      "Accuracy: 98.0%\n",
      "Epoch 8,Training Loss: 0.000978144061061487, Validation Loss:0.05114397271448979 \n",
      "Testing Accuracy:\n",
      "Accuracy: 99.41520467836257%\n",
      "Validation Accuracy:\n",
      "Accuracy: 98.0%\n"
     ]
    }
   ],
   "source": [
    "\n",
    "for epoch in range(8):\n",
    "    model.train()\n",
    "    total_loss = 0\n",
    "    for batch in train_loader:\n",
    "        text = batch['text'].to(device).unsqueeze(1) \n",
    "        labels = batch['label'].to(device)\n",
    "        \n",
    "        optimizer.zero_grad()\n",
    "        outputs = model(text)\n",
    "        loss = criterion(outputs, labels)\n",
    "        loss.backward()\n",
    "        optimizer.step()\n",
    "        \n",
    "        total_loss += loss.item()\n",
    "    \n",
    "\n",
    "    avg_train_loss = total_loss / len(train_loader)\n",
    "    avg_valid_loss=evaluate(valid_loader,criterion)\n",
    "    print(f'Epoch {epoch + 1},Training Loss: {avg_train_loss}, Validation Loss:{avg_valid_loss} ')\n",
    "    print('Testing Accuracy:')\n",
    "    model_eval(test_loader)\n",
    "    print('Validation Accuracy:')\n",
    "    model_eval(valid_loader)\n",
    "\n"
   ]
  },
  {
   "cell_type": "code",
   "execution_count": 532,
   "metadata": {},
   "outputs": [
    {
     "name": "stdout",
     "output_type": "stream",
     "text": [
      "Testing\n",
      "Accuracy: 99.41520467836257%\n",
      "Accuracy: 98.0%\n"
     ]
    }
   ],
   "source": [
    "print('Testing')\n",
    "_,_=model_eval(test_loader)\n",
    "_,_=model_eval(valid_loader)"
   ]
  },
  {
   "cell_type": "markdown",
   "metadata": {},
   "source": [
    "**REMAPPING FOR PREDICTED VALUES**"
   ]
  },
  {
   "cell_type": "code",
   "execution_count": 533,
   "metadata": {},
   "outputs": [],
   "source": [
    "map={0:'zim_id_card',1:'sa_id_card',2:'zim_passport',3:'sa_license',4:'sa_passport',5:'zim_license'}"
   ]
  },
  {
   "cell_type": "markdown",
   "metadata": {},
   "source": [
    "**PREDICTING ON INDIVIDUAL TEXTS**"
   ]
  },
  {
   "cell_type": "code",
   "execution_count": 537,
   "metadata": {},
   "outputs": [
    {
     "name": "stdout",
     "output_type": "stream",
     "text": [
      "zim_passport\n"
     ]
    }
   ],
   "source": [
    "\n",
    "\n",
    "def predict(text,vectorizer,model,device,class_map):\n",
    "    model.eval()\n",
    "\n",
    "    features = vectorizer.transform([text]).toarray().squeeze()\n",
    "    features = torch.tensor(features, dtype=torch.float).unsqueeze(0).unsqueeze(1).to(device)  \n",
    "\n",
    "    with torch.no_grad():\n",
    "        output = model(features)\n",
    "    \n",
    "    _, predicted = torch.max(output, 1)\n",
    "    id= predicted.item()\n",
    "    pred_class=class_map.get(id,'Unknown')\n",
    "    return pred_class\n",
    "\n",
    "text='PASSPORT zz zz PN zz ZIM zz DUBE zz NODBZITHA zz ZIMBAIWEAN zz BULAWAYO zz M zz 2203/1983 zz 19/02/2004 zz ZIMBABWE zz 1802/2014 REGSTRAR GENERAL zz PNZIMDUBE<<NQ0BIZITHA<<< zz AN795650<5ZIM8303224M1402184080631368W39<<50'\n",
    "predicted_class = predict(text, vectorizer, model, device,map)\n",
    "\n",
    "print(predicted_class)"
   ]
  },
  {
   "cell_type": "code",
   "execution_count": 538,
   "metadata": {},
   "outputs": [
    {
     "name": "stdout",
     "output_type": "stream",
     "text": [
      "zim_passport\n"
     ]
    }
   ],
   "source": [
    "text='PASSPORT zz zz CN83 7983 zz PN zz CHAKWENGA zz ZIMBABWEAN zz 25125413 F07 zz M zz MASVINGO zz 17/12/1993 zz ZIMBABWE zz 16/10/2020 zz REGISTRAR GENCRALHRE zz 15/10/2030 zz DRIVER zz PNZIMCHAKWENGA<<<NIMROD< zz CNB37983<1ZIM91020101208270253741C03<<43'\n",
    "predicted_class = predict(text, vectorizer, model, device,map)\n",
    "\n",
    "print(predicted_class)"
   ]
  },
  {
   "cell_type": "code",
   "execution_count": 542,
   "metadata": {},
   "outputs": [
    {
     "name": "stdout",
     "output_type": "stream",
     "text": [
      "sa_license\n"
     ]
    }
   ],
   "source": [
    "text='DENNGEICENCE SOUTH AFRICA ZA CARTADECONDUCAO POKIJ MICHAEL IDNo.: 02/7701165121086 MALE Birth: o1/oo/1999 ZA Restriction LiconceNumber 206170042R2M No.: 7 Vaii 30/03/2019 29/03/2024 issued. Us A EC Venicierestrietion: 0 0 16/01/2003 29/04/201'\n",
    "predicted_class = predict(text, vectorizer, model, device,map)\n",
    "\n",
    "print(predicted_class)"
   ]
  },
  {
   "cell_type": "code",
   "execution_count": 535,
   "metadata": {},
   "outputs": [
    {
     "data": {
      "text/plain": [
       "'REPUBLIC ZIMBABWE zz NATIONAL REGISTRATION zz 63-2043479 M 38 CIT M zz MUTASA zz NANE zz MAKONI zz 22/08/1996 zz OMAWERE zz C zz PLACE KAJOKOTO zz DATE 24/12/2014 zz OF zz FNGSRPRINT'"
      ]
     },
     "execution_count": 535,
     "metadata": {},
     "output_type": "execute_result"
    }
   ],
   "source": [
    "test_df['text'][119]"
   ]
  },
  {
   "cell_type": "code",
   "execution_count": 536,
   "metadata": {},
   "outputs": [
    {
     "name": "stdout",
     "output_type": "stream",
     "text": [
      "sa_id_card\n",
      "sa_id_card\n",
      "sa_id_card\n",
      "sa_id_card\n",
      "sa_id_card\n",
      "sa_id_card\n",
      "sa_id_card\n",
      "sa_id_card\n",
      "sa_license\n",
      "sa_passport\n",
      "zim_id_card\n"
     ]
    }
   ],
   "source": [
    "for i in range(1,110,10):\n",
    "    text=df['text'][i]\n",
    "    predicted_class = predict(text, vectorizer, model, device,map)\n",
    "\n",
    "    print(predicted_class)"
   ]
  },
  {
   "cell_type": "code",
   "execution_count": null,
   "metadata": {},
   "outputs": [],
   "source": [
    "df[df['text']=='THE REPUBLIC OF ZIMBABWE zz zz PASSP0RT zz PN zz AE164852 zz CHIPANDE zz PRITORIA zz 56-6876634T57 zz ZIMBABWEAN zz M zz 04/05/1987 zz 12/05/2023 ZIMBARWE zz 11/07/2032 HEGISTHAR GENERAL-HRE zz PNZWECHIPANDE<<PRITORIA<<<CCCEC zz AE164852 <6ZWE9 109032 M320711056119 305T56CCCC<BD']\n"
   ]
  }
 ],
 "metadata": {
  "kernelspec": {
   "display_name": "Python 3",
   "language": "python",
   "name": "python3"
  },
  "language_info": {
   "codemirror_mode": {
    "name": "ipython",
    "version": 3
   },
   "file_extension": ".py",
   "mimetype": "text/x-python",
   "name": "python",
   "nbconvert_exporter": "python",
   "pygments_lexer": "ipython3",
   "version": "3.12.2"
  }
 },
 "nbformat": 4,
 "nbformat_minor": 2
}
